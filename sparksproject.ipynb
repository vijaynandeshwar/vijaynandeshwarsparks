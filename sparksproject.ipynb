{
 "cells": [
  {
   "cell_type": "code",
   "execution_count": 111,
   "id": "04cdc9b5",
   "metadata": {},
   "outputs": [],
   "source": [
    "import pandas as pd\n",
    "import numpy as np\n",
    "import matplotlib.pyplot as plt\n",
    "import seaborn as sns\n",
    "%matplotlib inline"
   ]
  },
  {
   "cell_type": "code",
   "execution_count": 112,
   "id": "97afdcf1",
   "metadata": {},
   "outputs": [],
   "source": [
    "#Reading the data from source"
   ]
  },
  {
   "cell_type": "code",
   "execution_count": 113,
   "id": "7f90497e",
   "metadata": {},
   "outputs": [],
   "source": [
    "#D:\\SampleSuperstore - SampleSuperstore.csv"
   ]
  },
  {
   "cell_type": "code",
   "execution_count": 114,
   "id": "9b2a380c",
   "metadata": {},
   "outputs": [],
   "source": [
    "retaildata = pd.read_csv('D:\\SampleSuperstore - SampleSuperstore.csv')"
   ]
  },
  {
   "cell_type": "code",
   "execution_count": 115,
   "id": "5d8e4927",
   "metadata": {},
   "outputs": [
    {
     "data": {
      "text/html": [
       "<div>\n",
       "<style scoped>\n",
       "    .dataframe tbody tr th:only-of-type {\n",
       "        vertical-align: middle;\n",
       "    }\n",
       "\n",
       "    .dataframe tbody tr th {\n",
       "        vertical-align: top;\n",
       "    }\n",
       "\n",
       "    .dataframe thead th {\n",
       "        text-align: right;\n",
       "    }\n",
       "</style>\n",
       "<table border=\"1\" class=\"dataframe\">\n",
       "  <thead>\n",
       "    <tr style=\"text-align: right;\">\n",
       "      <th></th>\n",
       "      <th>Ship Mode</th>\n",
       "      <th>Segment</th>\n",
       "      <th>Country</th>\n",
       "      <th>City</th>\n",
       "      <th>State</th>\n",
       "      <th>Postal Code</th>\n",
       "      <th>Region</th>\n",
       "      <th>Category</th>\n",
       "      <th>Sub-Category</th>\n",
       "      <th>Sales</th>\n",
       "      <th>Quantity</th>\n",
       "      <th>Discount</th>\n",
       "      <th>Profit</th>\n",
       "    </tr>\n",
       "  </thead>\n",
       "  <tbody>\n",
       "    <tr>\n",
       "      <th>0</th>\n",
       "      <td>Second Class</td>\n",
       "      <td>Consumer</td>\n",
       "      <td>United States</td>\n",
       "      <td>Henderson</td>\n",
       "      <td>Kentucky</td>\n",
       "      <td>42420</td>\n",
       "      <td>South</td>\n",
       "      <td>Furniture</td>\n",
       "      <td>Bookcases</td>\n",
       "      <td>261.9600</td>\n",
       "      <td>2</td>\n",
       "      <td>0.00</td>\n",
       "      <td>41.9136</td>\n",
       "    </tr>\n",
       "    <tr>\n",
       "      <th>1</th>\n",
       "      <td>Second Class</td>\n",
       "      <td>Consumer</td>\n",
       "      <td>United States</td>\n",
       "      <td>Henderson</td>\n",
       "      <td>Kentucky</td>\n",
       "      <td>42420</td>\n",
       "      <td>South</td>\n",
       "      <td>Furniture</td>\n",
       "      <td>Chairs</td>\n",
       "      <td>731.9400</td>\n",
       "      <td>3</td>\n",
       "      <td>0.00</td>\n",
       "      <td>219.5820</td>\n",
       "    </tr>\n",
       "    <tr>\n",
       "      <th>2</th>\n",
       "      <td>Second Class</td>\n",
       "      <td>Corporate</td>\n",
       "      <td>United States</td>\n",
       "      <td>Los Angeles</td>\n",
       "      <td>California</td>\n",
       "      <td>90036</td>\n",
       "      <td>West</td>\n",
       "      <td>Office Supplies</td>\n",
       "      <td>Labels</td>\n",
       "      <td>14.6200</td>\n",
       "      <td>2</td>\n",
       "      <td>0.00</td>\n",
       "      <td>6.8714</td>\n",
       "    </tr>\n",
       "    <tr>\n",
       "      <th>3</th>\n",
       "      <td>Standard Class</td>\n",
       "      <td>Consumer</td>\n",
       "      <td>United States</td>\n",
       "      <td>Fort Lauderdale</td>\n",
       "      <td>Florida</td>\n",
       "      <td>33311</td>\n",
       "      <td>South</td>\n",
       "      <td>Furniture</td>\n",
       "      <td>Tables</td>\n",
       "      <td>957.5775</td>\n",
       "      <td>5</td>\n",
       "      <td>0.45</td>\n",
       "      <td>-383.0310</td>\n",
       "    </tr>\n",
       "    <tr>\n",
       "      <th>4</th>\n",
       "      <td>Standard Class</td>\n",
       "      <td>Consumer</td>\n",
       "      <td>United States</td>\n",
       "      <td>Fort Lauderdale</td>\n",
       "      <td>Florida</td>\n",
       "      <td>33311</td>\n",
       "      <td>South</td>\n",
       "      <td>Office Supplies</td>\n",
       "      <td>Storage</td>\n",
       "      <td>22.3680</td>\n",
       "      <td>2</td>\n",
       "      <td>0.20</td>\n",
       "      <td>2.5164</td>\n",
       "    </tr>\n",
       "    <tr>\n",
       "      <th>...</th>\n",
       "      <td>...</td>\n",
       "      <td>...</td>\n",
       "      <td>...</td>\n",
       "      <td>...</td>\n",
       "      <td>...</td>\n",
       "      <td>...</td>\n",
       "      <td>...</td>\n",
       "      <td>...</td>\n",
       "      <td>...</td>\n",
       "      <td>...</td>\n",
       "      <td>...</td>\n",
       "      <td>...</td>\n",
       "      <td>...</td>\n",
       "    </tr>\n",
       "    <tr>\n",
       "      <th>9989</th>\n",
       "      <td>Second Class</td>\n",
       "      <td>Consumer</td>\n",
       "      <td>United States</td>\n",
       "      <td>Miami</td>\n",
       "      <td>Florida</td>\n",
       "      <td>33180</td>\n",
       "      <td>South</td>\n",
       "      <td>Furniture</td>\n",
       "      <td>Furnishings</td>\n",
       "      <td>25.2480</td>\n",
       "      <td>3</td>\n",
       "      <td>0.20</td>\n",
       "      <td>4.1028</td>\n",
       "    </tr>\n",
       "    <tr>\n",
       "      <th>9990</th>\n",
       "      <td>Standard Class</td>\n",
       "      <td>Consumer</td>\n",
       "      <td>United States</td>\n",
       "      <td>Costa Mesa</td>\n",
       "      <td>California</td>\n",
       "      <td>92627</td>\n",
       "      <td>West</td>\n",
       "      <td>Furniture</td>\n",
       "      <td>Furnishings</td>\n",
       "      <td>91.9600</td>\n",
       "      <td>2</td>\n",
       "      <td>0.00</td>\n",
       "      <td>15.6332</td>\n",
       "    </tr>\n",
       "    <tr>\n",
       "      <th>9991</th>\n",
       "      <td>Standard Class</td>\n",
       "      <td>Consumer</td>\n",
       "      <td>United States</td>\n",
       "      <td>Costa Mesa</td>\n",
       "      <td>California</td>\n",
       "      <td>92627</td>\n",
       "      <td>West</td>\n",
       "      <td>Technology</td>\n",
       "      <td>Phones</td>\n",
       "      <td>258.5760</td>\n",
       "      <td>2</td>\n",
       "      <td>0.20</td>\n",
       "      <td>19.3932</td>\n",
       "    </tr>\n",
       "    <tr>\n",
       "      <th>9992</th>\n",
       "      <td>Standard Class</td>\n",
       "      <td>Consumer</td>\n",
       "      <td>United States</td>\n",
       "      <td>Costa Mesa</td>\n",
       "      <td>California</td>\n",
       "      <td>92627</td>\n",
       "      <td>West</td>\n",
       "      <td>Office Supplies</td>\n",
       "      <td>Paper</td>\n",
       "      <td>29.6000</td>\n",
       "      <td>4</td>\n",
       "      <td>0.00</td>\n",
       "      <td>13.3200</td>\n",
       "    </tr>\n",
       "    <tr>\n",
       "      <th>9993</th>\n",
       "      <td>Second Class</td>\n",
       "      <td>Consumer</td>\n",
       "      <td>United States</td>\n",
       "      <td>Westminster</td>\n",
       "      <td>California</td>\n",
       "      <td>92683</td>\n",
       "      <td>West</td>\n",
       "      <td>Office Supplies</td>\n",
       "      <td>Appliances</td>\n",
       "      <td>243.1600</td>\n",
       "      <td>2</td>\n",
       "      <td>0.00</td>\n",
       "      <td>72.9480</td>\n",
       "    </tr>\n",
       "  </tbody>\n",
       "</table>\n",
       "<p>9994 rows × 13 columns</p>\n",
       "</div>"
      ],
      "text/plain": [
       "           Ship Mode    Segment        Country             City       State  \\\n",
       "0       Second Class   Consumer  United States        Henderson    Kentucky   \n",
       "1       Second Class   Consumer  United States        Henderson    Kentucky   \n",
       "2       Second Class  Corporate  United States      Los Angeles  California   \n",
       "3     Standard Class   Consumer  United States  Fort Lauderdale     Florida   \n",
       "4     Standard Class   Consumer  United States  Fort Lauderdale     Florida   \n",
       "...              ...        ...            ...              ...         ...   \n",
       "9989    Second Class   Consumer  United States            Miami     Florida   \n",
       "9990  Standard Class   Consumer  United States       Costa Mesa  California   \n",
       "9991  Standard Class   Consumer  United States       Costa Mesa  California   \n",
       "9992  Standard Class   Consumer  United States       Costa Mesa  California   \n",
       "9993    Second Class   Consumer  United States      Westminster  California   \n",
       "\n",
       "      Postal Code Region         Category Sub-Category     Sales  Quantity  \\\n",
       "0           42420  South        Furniture    Bookcases  261.9600         2   \n",
       "1           42420  South        Furniture       Chairs  731.9400         3   \n",
       "2           90036   West  Office Supplies       Labels   14.6200         2   \n",
       "3           33311  South        Furniture       Tables  957.5775         5   \n",
       "4           33311  South  Office Supplies      Storage   22.3680         2   \n",
       "...           ...    ...              ...          ...       ...       ...   \n",
       "9989        33180  South        Furniture  Furnishings   25.2480         3   \n",
       "9990        92627   West        Furniture  Furnishings   91.9600         2   \n",
       "9991        92627   West       Technology       Phones  258.5760         2   \n",
       "9992        92627   West  Office Supplies        Paper   29.6000         4   \n",
       "9993        92683   West  Office Supplies   Appliances  243.1600         2   \n",
       "\n",
       "      Discount    Profit  \n",
       "0         0.00   41.9136  \n",
       "1         0.00  219.5820  \n",
       "2         0.00    6.8714  \n",
       "3         0.45 -383.0310  \n",
       "4         0.20    2.5164  \n",
       "...        ...       ...  \n",
       "9989      0.20    4.1028  \n",
       "9990      0.00   15.6332  \n",
       "9991      0.20   19.3932  \n",
       "9992      0.00   13.3200  \n",
       "9993      0.00   72.9480  \n",
       "\n",
       "[9994 rows x 13 columns]"
      ]
     },
     "execution_count": 115,
     "metadata": {},
     "output_type": "execute_result"
    }
   ],
   "source": [
    "retaildata"
   ]
  },
  {
   "cell_type": "code",
   "execution_count": 116,
   "id": "7a70b076",
   "metadata": {},
   "outputs": [],
   "source": [
    "#Exploring the details about dataset"
   ]
  },
  {
   "cell_type": "code",
   "execution_count": 117,
   "id": "bb7aeaf2",
   "metadata": {},
   "outputs": [
    {
     "data": {
      "text/html": [
       "<div>\n",
       "<style scoped>\n",
       "    .dataframe tbody tr th:only-of-type {\n",
       "        vertical-align: middle;\n",
       "    }\n",
       "\n",
       "    .dataframe tbody tr th {\n",
       "        vertical-align: top;\n",
       "    }\n",
       "\n",
       "    .dataframe thead th {\n",
       "        text-align: right;\n",
       "    }\n",
       "</style>\n",
       "<table border=\"1\" class=\"dataframe\">\n",
       "  <thead>\n",
       "    <tr style=\"text-align: right;\">\n",
       "      <th></th>\n",
       "      <th>Postal Code</th>\n",
       "      <th>Sales</th>\n",
       "      <th>Quantity</th>\n",
       "      <th>Discount</th>\n",
       "      <th>Profit</th>\n",
       "    </tr>\n",
       "  </thead>\n",
       "  <tbody>\n",
       "    <tr>\n",
       "      <th>count</th>\n",
       "      <td>9994.000000</td>\n",
       "      <td>9994.000000</td>\n",
       "      <td>9994.000000</td>\n",
       "      <td>9994.000000</td>\n",
       "      <td>9994.000000</td>\n",
       "    </tr>\n",
       "    <tr>\n",
       "      <th>mean</th>\n",
       "      <td>55190.379428</td>\n",
       "      <td>229.858001</td>\n",
       "      <td>3.789574</td>\n",
       "      <td>0.156203</td>\n",
       "      <td>28.656896</td>\n",
       "    </tr>\n",
       "    <tr>\n",
       "      <th>std</th>\n",
       "      <td>32063.693350</td>\n",
       "      <td>623.245101</td>\n",
       "      <td>2.225110</td>\n",
       "      <td>0.206452</td>\n",
       "      <td>234.260108</td>\n",
       "    </tr>\n",
       "    <tr>\n",
       "      <th>min</th>\n",
       "      <td>1040.000000</td>\n",
       "      <td>0.444000</td>\n",
       "      <td>1.000000</td>\n",
       "      <td>0.000000</td>\n",
       "      <td>-6599.978000</td>\n",
       "    </tr>\n",
       "    <tr>\n",
       "      <th>25%</th>\n",
       "      <td>23223.000000</td>\n",
       "      <td>17.280000</td>\n",
       "      <td>2.000000</td>\n",
       "      <td>0.000000</td>\n",
       "      <td>1.728750</td>\n",
       "    </tr>\n",
       "    <tr>\n",
       "      <th>50%</th>\n",
       "      <td>56430.500000</td>\n",
       "      <td>54.490000</td>\n",
       "      <td>3.000000</td>\n",
       "      <td>0.200000</td>\n",
       "      <td>8.666500</td>\n",
       "    </tr>\n",
       "    <tr>\n",
       "      <th>75%</th>\n",
       "      <td>90008.000000</td>\n",
       "      <td>209.940000</td>\n",
       "      <td>5.000000</td>\n",
       "      <td>0.200000</td>\n",
       "      <td>29.364000</td>\n",
       "    </tr>\n",
       "    <tr>\n",
       "      <th>max</th>\n",
       "      <td>99301.000000</td>\n",
       "      <td>22638.480000</td>\n",
       "      <td>14.000000</td>\n",
       "      <td>0.800000</td>\n",
       "      <td>8399.976000</td>\n",
       "    </tr>\n",
       "  </tbody>\n",
       "</table>\n",
       "</div>"
      ],
      "text/plain": [
       "        Postal Code         Sales     Quantity     Discount       Profit\n",
       "count   9994.000000   9994.000000  9994.000000  9994.000000  9994.000000\n",
       "mean   55190.379428    229.858001     3.789574     0.156203    28.656896\n",
       "std    32063.693350    623.245101     2.225110     0.206452   234.260108\n",
       "min     1040.000000      0.444000     1.000000     0.000000 -6599.978000\n",
       "25%    23223.000000     17.280000     2.000000     0.000000     1.728750\n",
       "50%    56430.500000     54.490000     3.000000     0.200000     8.666500\n",
       "75%    90008.000000    209.940000     5.000000     0.200000    29.364000\n",
       "max    99301.000000  22638.480000    14.000000     0.800000  8399.976000"
      ]
     },
     "execution_count": 117,
     "metadata": {},
     "output_type": "execute_result"
    }
   ],
   "source": [
    "retaildata.describe()"
   ]
  },
  {
   "cell_type": "code",
   "execution_count": 118,
   "id": "a4f07761",
   "metadata": {},
   "outputs": [
    {
     "name": "stdout",
     "output_type": "stream",
     "text": [
      "<class 'pandas.core.frame.DataFrame'>\n",
      "RangeIndex: 9994 entries, 0 to 9993\n",
      "Data columns (total 13 columns):\n",
      " #   Column        Non-Null Count  Dtype  \n",
      "---  ------        --------------  -----  \n",
      " 0   Ship Mode     9994 non-null   object \n",
      " 1   Segment       9994 non-null   object \n",
      " 2   Country       9994 non-null   object \n",
      " 3   City          9994 non-null   object \n",
      " 4   State         9994 non-null   object \n",
      " 5   Postal Code   9994 non-null   int64  \n",
      " 6   Region        9994 non-null   object \n",
      " 7   Category      9994 non-null   object \n",
      " 8   Sub-Category  9994 non-null   object \n",
      " 9   Sales         9994 non-null   float64\n",
      " 10  Quantity      9994 non-null   int64  \n",
      " 11  Discount      9994 non-null   float64\n",
      " 12  Profit        9994 non-null   float64\n",
      "dtypes: float64(3), int64(2), object(8)\n",
      "memory usage: 1015.1+ KB\n"
     ]
    }
   ],
   "source": [
    "retaildata.info()"
   ]
  },
  {
   "cell_type": "code",
   "execution_count": 119,
   "id": "a95714b0",
   "metadata": {},
   "outputs": [
    {
     "data": {
      "text/plain": [
       "Index(['Ship Mode', 'Segment', 'Country', 'City', 'State', 'Postal Code',\n",
       "       'Region', 'Category', 'Sub-Category', 'Sales', 'Quantity', 'Discount',\n",
       "       'Profit'],\n",
       "      dtype='object')"
      ]
     },
     "execution_count": 119,
     "metadata": {},
     "output_type": "execute_result"
    }
   ],
   "source": [
    "retaildata.columns"
   ]
  },
  {
   "cell_type": "code",
   "execution_count": 120,
   "id": "01d693ee",
   "metadata": {},
   "outputs": [
    {
     "data": {
      "text/plain": [
       "(4,)"
      ]
     },
     "execution_count": 120,
     "metadata": {},
     "output_type": "execute_result"
    }
   ],
   "source": [
    "retaildata['Ship Mode'].unique().shape"
   ]
  },
  {
   "cell_type": "code",
   "execution_count": 121,
   "id": "238bfa7d",
   "metadata": {},
   "outputs": [
    {
     "name": "stdout",
     "output_type": "stream",
     "text": [
      "Number of unique categories in Ship Modeis ['Second Class' 'Standard Class' 'First Class' 'Same Day']\n",
      "Number of unique categories in Segmentis ['Consumer' 'Corporate' 'Home Office']\n",
      "Number of unique categories in Countryis ['United States']\n",
      "Number of unique categories in Cityis ['Henderson' 'Los Angeles' 'Fort Lauderdale' 'Concord' 'Seattle'\n",
      " 'Fort Worth' 'Madison' 'West Jordan' 'San Francisco' 'Fremont'\n",
      " 'Philadelphia' 'Orem' 'Houston' 'Richardson' 'Naperville' 'Melbourne'\n",
      " 'Eagan' 'Westland' 'Dover' 'New Albany' 'New York City' 'Troy' 'Chicago'\n",
      " 'Gilbert' 'Springfield' 'Jackson' 'Memphis' 'Decatur' 'Durham' 'Columbia'\n",
      " 'Rochester' 'Minneapolis' 'Portland' 'Saint Paul' 'Aurora' 'Charlotte'\n",
      " 'Orland Park' 'Urbandale' 'Columbus' 'Bristol' 'Wilmington' 'Bloomington'\n",
      " 'Phoenix' 'Roseville' 'Independence' 'Pasadena' 'Newark' 'Franklin'\n",
      " 'Scottsdale' 'San Jose' 'Edmond' 'Carlsbad' 'San Antonio' 'Monroe'\n",
      " 'Fairfield' 'Grand Prairie' 'Redlands' 'Hamilton' 'Westfield' 'Akron'\n",
      " 'Denver' 'Dallas' 'Whittier' 'Saginaw' 'Medina' 'Dublin' 'Detroit'\n",
      " 'Tampa' 'Santa Clara' 'Lakeville' 'San Diego' 'Brentwood' 'Chapel Hill'\n",
      " 'Morristown' 'Cincinnati' 'Inglewood' 'Tamarac' 'Colorado Springs'\n",
      " 'Belleville' 'Taylor' 'Lakewood' 'Arlington' 'Arvada' 'Hackensack'\n",
      " 'Saint Petersburg' 'Long Beach' 'Hesperia' 'Murfreesboro' 'Layton'\n",
      " 'Austin' 'Lowell' 'Manchester' 'Harlingen' 'Tucson' 'Quincy'\n",
      " 'Pembroke Pines' 'Des Moines' 'Peoria' 'Las Vegas' 'Warwick' 'Miami'\n",
      " 'Huntington Beach' 'Richmond' 'Louisville' 'Lawrence' 'Canton'\n",
      " 'New Rochelle' 'Gastonia' 'Jacksonville' 'Auburn' 'Norman' 'Park Ridge'\n",
      " 'Amarillo' 'Lindenhurst' 'Huntsville' 'Fayetteville' 'Costa Mesa'\n",
      " 'Parker' 'Atlanta' 'Gladstone' 'Great Falls' 'Lakeland' 'Montgomery'\n",
      " 'Mesa' 'Green Bay' 'Anaheim' 'Marysville' 'Salem' 'Laredo' 'Grove City'\n",
      " 'Dearborn' 'Warner Robins' 'Vallejo' 'Mission Viejo' 'Rochester Hills'\n",
      " 'Plainfield' 'Sierra Vista' 'Vancouver' 'Cleveland' 'Tyler' 'Burlington'\n",
      " 'Waynesboro' 'Chester' 'Cary' 'Palm Coast' 'Mount Vernon' 'Hialeah'\n",
      " 'Oceanside' 'Evanston' 'Trenton' 'Cottage Grove' 'Bossier City'\n",
      " 'Lancaster' 'Asheville' 'Lake Elsinore' 'Omaha' 'Edmonds' 'Santa Ana'\n",
      " 'Milwaukee' 'Florence' 'Lorain' 'Linden' 'Salinas' 'New Brunswick'\n",
      " 'Garland' 'Norwich' 'Alexandria' 'Toledo' 'Farmington' 'Riverside'\n",
      " 'Torrance' 'Round Rock' 'Boca Raton' 'Virginia Beach' 'Murrieta'\n",
      " 'Olympia' 'Washington' 'Jefferson City' 'Saint Peters' 'Rockford'\n",
      " 'Brownsville' 'Yonkers' 'Oakland' 'Clinton' 'Encinitas' 'Roswell'\n",
      " 'Jonesboro' 'Antioch' 'Homestead' 'La Porte' 'Lansing' 'Cuyahoga Falls'\n",
      " 'Reno' 'Harrisonburg' 'Escondido' 'Royal Oak' 'Rockville' 'Coral Springs'\n",
      " 'Buffalo' 'Boynton Beach' 'Gulfport' 'Fresno' 'Greenville' 'Macon'\n",
      " 'Cedar Rapids' 'Providence' 'Pueblo' 'Deltona' 'Murray' 'Middletown'\n",
      " 'Freeport' 'Pico Rivera' 'Provo' 'Pleasant Grove' 'Smyrna' 'Parma'\n",
      " 'Mobile' 'New Bedford' 'Irving' 'Vineland' 'Glendale' 'Niagara Falls'\n",
      " 'Thomasville' 'Westminster' 'Coppell' 'Pomona' 'North Las Vegas'\n",
      " 'Allentown' 'Tempe' 'Laguna Niguel' 'Bridgeton' 'Everett' 'Watertown'\n",
      " 'Appleton' 'Bellevue' 'Allen' 'El Paso' 'Grapevine' 'Carrollton' 'Kent'\n",
      " 'Lafayette' 'Tigard' 'Skokie' 'Plano' 'Suffolk' 'Indianapolis' 'Bayonne'\n",
      " 'Greensboro' 'Baltimore' 'Kenosha' 'Olathe' 'Tulsa' 'Redmond' 'Raleigh'\n",
      " 'Muskogee' 'Meriden' 'Bowling Green' 'South Bend' 'Spokane' 'Keller'\n",
      " 'Port Orange' 'Medford' 'Charlottesville' 'Missoula' 'Apopka' 'Reading'\n",
      " 'Broomfield' 'Paterson' 'Oklahoma City' 'Chesapeake' 'Lubbock'\n",
      " 'Johnson City' 'San Bernardino' 'Leominster' 'Bozeman' 'Perth Amboy'\n",
      " 'Ontario' 'Rancho Cucamonga' 'Moorhead' 'Mesquite' 'Stockton'\n",
      " 'Ormond Beach' 'Sunnyvale' 'York' 'College Station' 'Saint Louis'\n",
      " 'Manteca' 'San Angelo' 'Salt Lake City' 'Knoxville' 'Little Rock'\n",
      " 'Lincoln Park' 'Marion' 'Littleton' 'Bangor' 'Southaven' 'New Castle'\n",
      " 'Midland' 'Sioux Falls' 'Fort Collins' 'Clarksville' 'Sacramento'\n",
      " 'Thousand Oaks' 'Malden' 'Holyoke' 'Albuquerque' 'Sparks' 'Coachella'\n",
      " 'Elmhurst' 'Passaic' 'North Charleston' 'Newport News' 'Jamestown'\n",
      " 'Mishawaka' 'La Quinta' 'Tallahassee' 'Nashville' 'Bellingham'\n",
      " 'Woodstock' 'Haltom City' 'Wheeling' 'Summerville' 'Hot Springs'\n",
      " 'Englewood' 'Las Cruces' 'Hoover' 'Frisco' 'Vacaville' 'Waukesha'\n",
      " 'Bakersfield' 'Pompano Beach' 'Corpus Christi' 'Redondo Beach' 'Orlando'\n",
      " 'Orange' 'Lake Charles' 'Highland Park' 'Hempstead' 'Noblesville'\n",
      " 'Apple Valley' 'Mount Pleasant' 'Sterling Heights' 'Eau Claire' 'Pharr'\n",
      " 'Billings' 'Gresham' 'Chattanooga' 'Meridian' 'Bolingbrook' 'Maple Grove'\n",
      " 'Woodland' 'Missouri City' 'Pearland' 'San Mateo' 'Grand Rapids'\n",
      " 'Visalia' 'Overland Park' 'Temecula' 'Yucaipa' 'Revere' 'Conroe'\n",
      " 'Tinley Park' 'Dubuque' 'Dearborn Heights' 'Santa Fe' 'Hickory'\n",
      " 'Carol Stream' 'Saint Cloud' 'North Miami' 'Plantation'\n",
      " 'Port Saint Lucie' 'Rock Hill' 'Odessa' 'West Allis' 'Chula Vista'\n",
      " 'Manhattan' 'Altoona' 'Thornton' 'Champaign' 'Texarkana' 'Edinburg'\n",
      " 'Baytown' 'Greenwood' 'Woonsocket' 'Superior' 'Bedford' 'Covington'\n",
      " 'Broken Arrow' 'Miramar' 'Hollywood' 'Deer Park' 'Wichita' 'Mcallen'\n",
      " 'Iowa City' 'Boise' 'Cranston' 'Port Arthur' 'Citrus Heights'\n",
      " 'The Colony' 'Daytona Beach' 'Bullhead City' 'Portage' 'Fargo' 'Elkhart'\n",
      " 'San Gabriel' 'Margate' 'Sandy Springs' 'Mentor' 'Lawton' 'Hampton'\n",
      " 'Rome' 'La Crosse' 'Lewiston' 'Hattiesburg' 'Danville' 'Logan'\n",
      " 'Waterbury' 'Athens' 'Avondale' 'Marietta' 'Yuma' 'Wausau' 'Pasco'\n",
      " 'Oak Park' 'Pensacola' 'League City' 'Gaithersburg' 'Lehi' 'Tuscaloosa'\n",
      " 'Moreno Valley' 'Georgetown' 'Loveland' 'Chandler' 'Helena' 'Kirkwood'\n",
      " 'Waco' 'Frankfort' 'Bethlehem' 'Grand Island' 'Woodbury' 'Rogers'\n",
      " 'Clovis' 'Jupiter' 'Santa Barbara' 'Cedar Hill' 'Norfolk' 'Draper'\n",
      " 'Ann Arbor' 'La Mesa' 'Pocatello' 'Holland' 'Milford' 'Buffalo Grove'\n",
      " 'Lake Forest' 'Redding' 'Chico' 'Utica' 'Conway' 'Cheyenne' 'Owensboro'\n",
      " 'Caldwell' 'Kenner' 'Nashua' 'Bartlett' 'Redwood City' 'Lebanon'\n",
      " 'Santa Maria' 'Des Plaines' 'Longview' 'Hendersonville' 'Waterloo'\n",
      " 'Cambridge' 'Palatine' 'Beverly' 'Eugene' 'Oxnard' 'Renton' 'Glenview'\n",
      " 'Delray Beach' 'Commerce City' 'Texas City' 'Wilson' 'Rio Rancho'\n",
      " 'Goldsboro' 'Montebello' 'El Cajon' 'Beaumont' 'West Palm Beach'\n",
      " 'Abilene' 'Normal' 'Saint Charles' 'Camarillo' 'Hillsboro' 'Burbank'\n",
      " 'Modesto' 'Garden City' 'Atlantic City' 'Longmont' 'Davis' 'Morgan Hill'\n",
      " 'Clifton' 'Sheboygan' 'East Point' 'Rapid City' 'Andover' 'Kissimmee'\n",
      " 'Shelton' 'Danbury' 'Sanford' 'San Marcos' 'Greeley' 'Mansfield' 'Elyria'\n",
      " 'Twin Falls' 'Coral Gables' 'Romeoville' 'Marlborough' 'Laurel' 'Bryan'\n",
      " 'Pine Bluff' 'Aberdeen' 'Hagerstown' 'East Orange' 'Arlington Heights'\n",
      " 'Oswego' 'Coon Rapids' 'San Clemente' 'San Luis Obispo' 'Springdale'\n",
      " 'Lodi' 'Mason']\n",
      "Number of unique categories in Stateis ['Kentucky' 'California' 'Florida' 'North Carolina' 'Washington' 'Texas'\n",
      " 'Wisconsin' 'Utah' 'Nebraska' 'Pennsylvania' 'Illinois' 'Minnesota'\n",
      " 'Michigan' 'Delaware' 'Indiana' 'New York' 'Arizona' 'Virginia'\n",
      " 'Tennessee' 'Alabama' 'South Carolina' 'Oregon' 'Colorado' 'Iowa' 'Ohio'\n",
      " 'Missouri' 'Oklahoma' 'New Mexico' 'Louisiana' 'Connecticut' 'New Jersey'\n",
      " 'Massachusetts' 'Georgia' 'Nevada' 'Rhode Island' 'Mississippi'\n",
      " 'Arkansas' 'Montana' 'New Hampshire' 'Maryland' 'District of Columbia'\n",
      " 'Kansas' 'Vermont' 'Maine' 'South Dakota' 'Idaho' 'North Dakota'\n",
      " 'Wyoming' 'West Virginia']\n",
      "Number of unique categories in Postal Codeis [42420 90036 33311 90032 28027 98103 76106 53711 84084 94109 68025 19140\n",
      " 84057 90049 77095 75080 77041 60540 32935 55122 48185 19901 47150 10024\n",
      " 12180 90004 60610 85234 22153 10009 49201 38109 77070 35601 94122 27707\n",
      " 60623 29203 55901 55407 97206 55106 80013 28205 60462 10035 50322 43229\n",
      " 37620 19805 61701 85023 95661 64055 91104 43055 53132 85254 95123 98105\n",
      " 98115 73034 90045 19134 88220 78207 77036 62521 71203  6824 75051 92374\n",
      " 45011  7090 19120 44312 80219 75220 37064 90604 48601 44256 43017 48227\n",
      " 38401 33614 95051 55044 92037 77506 94513 27514  7960 45231 94110 90301\n",
      " 33319 80906  7109 48180  8701 22204 80004  7601 33710 19143 90805 92345\n",
      " 37130 84041 78745  1852 31907  6040 78550 85705 62301  2038 33024 98198\n",
      " 61604 89115  2886 33180 28403 92646 40475 80027  1841 39212 48187 10801\n",
      " 28052 32216 47201 13021 73071 94521 60068 79109 11757 90008 92024 77340\n",
      " 14609 72701 92627 80134 30318 64118 59405 48234 33801 36116 85204 60653\n",
      " 54302 45503 92804 98270 97301 78041 75217 43123 10011 48126 31088 94591\n",
      " 92691 48307  7060 85635 98661 60505 76017 40214 75081 44105 75701 27217\n",
      " 22980 19013 27511 32137 10550 48205 33012 11572 92105 60201 48183 55016\n",
      " 71111 50315 93534 23223 28806 92530 68104 98026 92704 53209 41042 44052\n",
      "  7036 93905  8901 17602  3301 21044 75043  6360 22304 43615 87401 92503\n",
      " 90503 78664 92054 33433 23464 92563 28540 52601 98502 20016 65109 63376\n",
      " 61107 33142 78521 10701 94601 28110 20735 30076 72401 47374 94509 33030\n",
      " 46350 48911 44221 89502 22801 92025 48073 20852 33065 14215 33437 39503\n",
      " 93727 27834 11561 35630 31204 52402  2908 81001 94533 32725 42071  6457\n",
      " 11520 90660 84604 84062 30080 24153 44134 36608  2740 75061  8360 85301\n",
      " 14304 27360 92683 38301 75019 91767 89031 18103 19711 85281 92677  8302\n",
      "  2149 13601 54915 98006 75002 79907 76051 75007 37167 98031 70506 97224\n",
      " 60076 75023 23434 46203  7002 28314 27405 21215 53142 66062 98002 74133\n",
      " 97756 27604 74403  6450 42104 46614  6010 89015 99207 76248 45014 32127\n",
      " 97504 22901 59801 33178 29501 97477 32712 19601 80020 65807  7501 73120\n",
      " 23320 79424 65203 37604 36830 92404  1453 59715 85345 44107  8861 91761\n",
      " 91730 56560 75150 95207 32174 94086  3820 17403 77840 63116  2169 95336\n",
      " 44240 76903 84106 35810 37918 72209 48146 43302 80122  5408  4401 38671\n",
      " 47362 48640 57103 80525 47905 37042 95823 91360  2148  1040 87105 89431\n",
      " 92236 60126  7055 29406 23602 14701 46544 43402 92253 32303 37211 98226\n",
      " 60098 76117 60090 29483 71901 80112 43130 88001 35244 75034 95687 84107\n",
      " 53186 93309 33068 45373 78415 90278 32839  7050 70601 60035 11550 46060\n",
      " 55124 29464 48310 54703 78577 59102 97030 37421 83642 92307 60440 55369\n",
      " 95695 77489 77581 94403 49505 93277 66212 92592 92399  2151 77301 60477\n",
      " 52001 48127 87505 28601 60188 56301 33161 46226 33317 34952 29730 79762\n",
      " 53214 91911 66502 16602 80229 61821 47401 71854 78539 77520 46142 90712\n",
      "  2895 54880 76021 98042 74012 33023 33021 77536 67212 78501 52240 83704\n",
      "  2920 61032 77642 95610 75056 98052 32114 86442 46368 58103 46514 91776\n",
      " 33063 30328 44060 73505 23666 13440 54601 83501 39401 94526 48858 84321\n",
      "  6708 30605  4240 61832 85323 30062 85364 54401 99301 60302 32503 77573\n",
      " 20877 84043 35401 92553 40324 80538 85224 59601 63122 76706 48066 60423\n",
      " 18018 55113 68801 55125 48237 72756 88101 33458 93101 75104 68701 84020\n",
      " 48104 91941 83201 49423  6460 60089 92630 96003 95928 13501 72032 82001\n",
      " 42301 83605 70065  3060 38134 94061 37087 93454 60016 98632 37075 50701\n",
      "  2138 60067  1915 97405 93030 98059 60025 33445 80022 77590 27893 87124\n",
      " 27534 98208 90640 92020 77705 33407 79605 61761 63301 60174 93010 97123\n",
      " 91505 95351 67846  8401 80501 95616 26003 95037  7011 53081 30344 57701\n",
      "  1810 34741  6484  6810 52302 32771 78666 80634 76063 44035 83301 33134\n",
      " 60441  1752 20707 77803 71603 57401 21740  7017 60004 60543 55433 92672\n",
      " 94568 93405 72762 95240 77571 45040 30188]\n",
      "Number of unique categories in Regionis ['South' 'West' 'Central' 'East']\n",
      "Number of unique categories in Categoryis ['Furniture' 'Office Supplies' 'Technology']\n",
      "Number of unique categories in Sub-Categoryis ['Bookcases' 'Chairs' 'Labels' 'Tables' 'Storage' 'Furnishings' 'Art'\n",
      " 'Phones' 'Binders' 'Appliances' 'Paper' 'Accessories' 'Envelopes'\n",
      " 'Fasteners' 'Supplies' 'Machines' 'Copiers']\n",
      "Number of unique categories in Salesis [261.96  731.94   14.62  ... 437.472  97.98  243.16 ]\n",
      "Number of unique categories in Quantityis [ 2  3  5  7  4  6  9  1  8 14 11 13 10 12]\n",
      "Number of unique categories in Discountis [0.   0.45 0.2  0.8  0.3  0.5  0.7  0.6  0.32 0.1  0.4  0.15]\n",
      "Number of unique categories in Profitis [ 41.9136 219.582    6.8714 ...  16.124    4.1028  72.948 ]\n"
     ]
    }
   ],
   "source": [
    "for i in retaildata.columns:\n",
    "    print('Number of unique categories in', i + 'is',retaildata[i].unique())"
   ]
  },
  {
   "cell_type": "code",
   "execution_count": 122,
   "id": "e3106edf",
   "metadata": {},
   "outputs": [],
   "source": [
    "#checking for outliers"
   ]
  },
  {
   "cell_type": "code",
   "execution_count": 123,
   "id": "f25ab29c",
   "metadata": {},
   "outputs": [
    {
     "data": {
      "text/plain": [
       "<AxesSubplot:>"
      ]
     },
     "execution_count": 123,
     "metadata": {},
     "output_type": "execute_result"
    },
    {
     "data": {
      "image/png": "[encoded data removed]",
      "text/plain": [
       "<Figure size 432x288 with 1 Axes>"
      ]
     },
     "metadata": {
      "needs_background": "light"
     },
     "output_type": "display_data"
    }
   ],
   "source": [
    "retaildata.boxplot()"
   ]
  },
  {
   "cell_type": "code",
   "execution_count": 124,
   "id": "7bef4527",
   "metadata": {},
   "outputs": [],
   "source": [
    "#Ship Mode and it's Impact on Sales"
   ]
  },
  {
   "cell_type": "code",
   "execution_count": 125,
   "id": "15e6a8d8",
   "metadata": {},
   "outputs": [],
   "source": [
    "#Shipmodewise Total Sales"
   ]
  },
  {
   "cell_type": "code",
   "execution_count": 126,
   "id": "aa350687",
   "metadata": {},
   "outputs": [
    {
     "data": {
      "text/plain": [
       "array(['First Class', 'Same Day', 'Second Class', 'Standard Class'],\n",
       "      dtype=object)"
      ]
     },
     "execution_count": 126,
     "metadata": {},
     "output_type": "execute_result"
    }
   ],
   "source": [
    "x = retaildata['Ship Mode'].unique()\n",
    "x.sort()\n",
    "x"
   ]
  },
  {
   "cell_type": "code",
   "execution_count": 127,
   "id": "f8a64f31",
   "metadata": {},
   "outputs": [
    {
     "data": {
      "text/plain": [
       "Ship Mode\n",
       "First Class       3.514284e+05\n",
       "Same Day          1.283631e+05\n",
       "Second Class      4.591936e+05\n",
       "Standard Class    1.358216e+06\n",
       "Name: Sales, dtype: float64"
      ]
     },
     "execution_count": 127,
     "metadata": {},
     "output_type": "execute_result"
    }
   ],
   "source": [
    "y = retaildata.groupby(['Ship Mode'])['Sales'].sum()\n",
    "y"
   ]
  },
  {
   "cell_type": "code",
   "execution_count": 128,
   "id": "d6902b92",
   "metadata": {},
   "outputs": [],
   "source": [
    "#Shipmodewise Total Profit"
   ]
  },
  {
   "cell_type": "code",
   "execution_count": 129,
   "id": "6b069b93",
   "metadata": {},
   "outputs": [
    {
     "data": {
      "text/plain": [
       "Ship Mode\n",
       "First Class        48969.8399\n",
       "Same Day           15891.7589\n",
       "Second Class       57446.6354\n",
       "Standard Class    164088.7875\n",
       "Name: Profit, dtype: float64"
      ]
     },
     "execution_count": 129,
     "metadata": {},
     "output_type": "execute_result"
    }
   ],
   "source": [
    "ypro = retaildata.groupby(['Ship Mode'])['Profit'].sum()\n",
    "ypro"
   ]
  },
  {
   "cell_type": "code",
   "execution_count": 130,
   "id": "c633fd8b",
   "metadata": {},
   "outputs": [],
   "source": [
    "#Shipmodewise Total Discount"
   ]
  },
  {
   "cell_type": "code",
   "execution_count": 131,
   "id": "58c77423",
   "metadata": {},
   "outputs": [
    {
     "data": {
      "text/plain": [
       "Ship Mode\n",
       "First Class       253.17\n",
       "Same Day           82.75\n",
       "Second Class      270.15\n",
       "Standard Class    955.02\n",
       "Name: Discount, dtype: float64"
      ]
     },
     "execution_count": 131,
     "metadata": {},
     "output_type": "execute_result"
    }
   ],
   "source": [
    "ydisc = retaildata.groupby(['Ship Mode'])['Discount'].sum()\n",
    "ydisc"
   ]
  },
  {
   "cell_type": "code",
   "execution_count": 132,
   "id": "885ae98a",
   "metadata": {},
   "outputs": [
    {
     "data": {
      "image/png": "[encoded data removed]",
      "text/plain": [
       "<Figure size 1440x432 with 3 Axes>"
      ]
     },
     "metadata": {
      "needs_background": "light"
     },
     "output_type": "display_data"
    }
   ],
   "source": [
    "fig,(ax1,ax2,ax3) = plt.subplots(1,3,figsize=(20,6))\n",
    "ax1.bar(x,y,color=['red', 'blue', 'purple', 'green'])\n",
    "ax2.bar(x,ypro,color=['red', 'blue', 'purple', 'green'])\n",
    "ax3.bar(x,ydisc,color=['red', 'blue', 'purple', 'green'])\n",
    "ax1.set_title('Shipmodewise Total Sales')\n",
    "ax2.set_title('Shipmodewise Total Profit')\n",
    "ax3.set_title('Shipmodewise Total Discount')\n",
    "plt.show()"
   ]
  },
  {
   "cell_type": "code",
   "execution_count": 133,
   "id": "983faed6",
   "metadata": {},
   "outputs": [],
   "source": [
    "#Conclusion=1)The Graph shows that Sales for the ship mode of standard class is having more Sales as Compared to others\n",
    "#2)We got more profit in Standard Class ship mode.So we have to use this strategis to improve our Sales and Profit"
   ]
  },
  {
   "cell_type": "code",
   "execution_count": 134,
   "id": "615bc7f4",
   "metadata": {},
   "outputs": [
    {
     "data": {
      "text/plain": [
       "array(['First Class', 'Same Day', 'Second Class', 'Standard Class'],\n",
       "      dtype=object)"
      ]
     },
     "execution_count": 134,
     "metadata": {},
     "output_type": "execute_result"
    }
   ],
   "source": [
    "x = retaildata['Ship Mode'].unique()\n",
    "x.sort()\n",
    "x"
   ]
  },
  {
   "cell_type": "code",
   "execution_count": 135,
   "id": "b6dd6bcc",
   "metadata": {},
   "outputs": [],
   "source": [
    "#Shipmodewise Avg Sales"
   ]
  },
  {
   "cell_type": "code",
   "execution_count": 136,
   "id": "6f7106b6",
   "metadata": {},
   "outputs": [
    {
     "data": {
      "text/plain": [
       "Ship Mode\n",
       "First Class       228.497024\n",
       "Same Day          236.396179\n",
       "Second Class      236.089239\n",
       "Standard Class    227.583067\n",
       "Name: Sales, dtype: float64"
      ]
     },
     "execution_count": 136,
     "metadata": {},
     "output_type": "execute_result"
    }
   ],
   "source": [
    "y = retaildata.groupby(['Ship Mode']).agg({'Sales':np.average})\n",
    "y = y.iloc[:,-1]\n",
    "y"
   ]
  },
  {
   "cell_type": "code",
   "execution_count": 137,
   "id": "47a1c408",
   "metadata": {},
   "outputs": [],
   "source": [
    "#Shipmodewise Avg Profit"
   ]
  },
  {
   "cell_type": "code",
   "execution_count": 138,
   "id": "d681868d",
   "metadata": {},
   "outputs": [
    {
     "data": {
      "text/plain": [
       "Ship Mode\n",
       "First Class       31.839948\n",
       "Same Day          29.266591\n",
       "Second Class      29.535545\n",
       "Standard Class    27.494770\n",
       "Name: Profit, dtype: float64"
      ]
     },
     "execution_count": 138,
     "metadata": {},
     "output_type": "execute_result"
    }
   ],
   "source": [
    "yprof = retaildata.groupby(['Ship Mode']).agg({'Profit':np.average})\n",
    "yprof = yprof.iloc[:,-1]\n",
    "yprof"
   ]
  },
  {
   "cell_type": "code",
   "execution_count": 139,
   "id": "033977b2",
   "metadata": {},
   "outputs": [
    {
     "data": {
      "image/png": "[encoded data removed]",
      "text/plain": [
       "<Figure size 1440x720 with 2 Axes>"
      ]
     },
     "metadata": {
      "needs_background": "light"
     },
     "output_type": "display_data"
    }
   ],
   "source": [
    "fig,(ax1,ax2) = plt.subplots(1,2,figsize=(20,10))\n",
    "ax1.bar(x,y,color=['red', 'blue', 'purple', 'green'])\n",
    "ax2.bar(x,yprof,color=['red', 'blue', 'purple', 'green'])\n",
    "ax1.set_title('Shipmodewise Avg Sales')\n",
    "ax2.set_title('Shipmodewise Avg Profit')\n",
    "plt.show()"
   ]
  },
  {
   "cell_type": "code",
   "execution_count": 140,
   "id": "b5170cb8",
   "metadata": {},
   "outputs": [],
   "source": [
    "#Conclusion:1)The Graph shows that average Sales & Avg Profit for the ship mode of standard class is having less avg Sales & avg profit as compared to others\n",
    "#2)We have to think about this mode and we have to think how we can improve our average sales and profit is standard class"
   ]
  },
  {
   "cell_type": "markdown",
   "id": "4c11cca6",
   "metadata": {},
   "source": [
    "#SegmentWise Sales and it's Impact\n",
    "\n"
   ]
  },
  {
   "cell_type": "code",
   "execution_count": 141,
   "id": "dc0582d4",
   "metadata": {},
   "outputs": [],
   "source": [
    "#SegmentWise Total sales"
   ]
  },
  {
   "cell_type": "code",
   "execution_count": 142,
   "id": "3b989b0e",
   "metadata": {},
   "outputs": [
    {
     "data": {
      "text/plain": [
       "array(['Consumer', 'Corporate', 'Home Office'], dtype=object)"
      ]
     },
     "execution_count": 142,
     "metadata": {},
     "output_type": "execute_result"
    }
   ],
   "source": [
    "x1 = retaildata['Segment'].unique()\n",
    "x1"
   ]
  },
  {
   "cell_type": "code",
   "execution_count": 143,
   "id": "01b44777",
   "metadata": {},
   "outputs": [
    {
     "data": {
      "text/plain": [
       "Segment\n",
       "Consumer       1.161401e+06\n",
       "Corporate      7.061464e+05\n",
       "Home Office    4.296531e+05\n",
       "Name: Sales, dtype: float64"
      ]
     },
     "execution_count": 143,
     "metadata": {},
     "output_type": "execute_result"
    }
   ],
   "source": [
    "y1 = retaildata.groupby(['Segment'])['Sales'].sum()\n",
    "y1"
   ]
  },
  {
   "cell_type": "code",
   "execution_count": 144,
   "id": "ac2c7e7b",
   "metadata": {},
   "outputs": [],
   "source": [
    "#SegmentWise Total Profit"
   ]
  },
  {
   "cell_type": "code",
   "execution_count": 145,
   "id": "5f99e59f",
   "metadata": {},
   "outputs": [
    {
     "data": {
      "text/plain": [
       "Segment\n",
       "Consumer       134119.2092\n",
       "Corporate       91979.1340\n",
       "Home Office     60298.6785\n",
       "Name: Profit, dtype: float64"
      ]
     },
     "execution_count": 145,
     "metadata": {},
     "output_type": "execute_result"
    }
   ],
   "source": [
    "y1pro = retaildata.groupby(['Segment'])['Profit'].sum()\n",
    "y1pro"
   ]
  },
  {
   "cell_type": "code",
   "execution_count": 146,
   "id": "24b2e7e0",
   "metadata": {},
   "outputs": [],
   "source": [
    "#SegmentWise Total Discount"
   ]
  },
  {
   "cell_type": "code",
   "execution_count": 147,
   "id": "8f0267df",
   "metadata": {},
   "outputs": [
    {
     "data": {
      "text/plain": [
       "Segment\n",
       "Consumer       820.91\n",
       "Corporate      477.85\n",
       "Home Office    262.33\n",
       "Name: Discount, dtype: float64"
      ]
     },
     "execution_count": 147,
     "metadata": {},
     "output_type": "execute_result"
    }
   ],
   "source": [
    "y1disc = retaildata.groupby(['Segment'])['Discount'].sum()\n",
    "y1disc"
   ]
  },
  {
   "cell_type": "code",
   "execution_count": null,
   "id": "44429319",
   "metadata": {},
   "outputs": [],
   "source": []
  },
  {
   "cell_type": "code",
   "execution_count": 80,
   "id": "82e2b2bb",
   "metadata": {},
   "outputs": [
    {
     "data": {
      "image/png": "[encoded data removed]",
      "text/plain": [
       "<Figure size 1080x360 with 3 Axes>"
      ]
     },
     "metadata": {
      "needs_background": "light"
     },
     "output_type": "display_data"
    }
   ],
   "source": [
    "fig, (ax1, ax2,ax3) = plt.subplots(1,3,figsize=(15,5))\n",
    "ax1.bar(x1,y1,color=['red','blue','green'])\n",
    "ax2.bar(x1,y1pro,color=['red','blue','green'])\n",
    "ax3.bar(x1,y1disc,color=['red','blue','green'])\n",
    "ax1.set_title('Segmentwise Total Sales')\n",
    "ax2.set_title('Segmentwise Total Profit')\n",
    "ax3.set_title('Segmentwise Total Discount')\n",
    "plt.show()"
   ]
  },
  {
   "cell_type": "code",
   "execution_count": 81,
   "id": "da2a3240",
   "metadata": {},
   "outputs": [],
   "source": [
    "#Conculusion 1)From the above graphs we can say that the Consumer segment performance is very good and also for Coorporate Segment\n",
    "#2)As we can see here the consumer segment is performing very good because we gave discount on that products\n",
    "#3)so we have to give some discpunt on Coorporte and home office segment products also we can increase the profit and sales\n"
   ]
  },
  {
   "cell_type": "code",
   "execution_count": 82,
   "id": "9865d2a8",
   "metadata": {},
   "outputs": [],
   "source": [
    "#SegmentWise Average Sales\n"
   ]
  },
  {
   "cell_type": "code",
   "execution_count": 83,
   "id": "b32b6923",
   "metadata": {},
   "outputs": [
    {
     "data": {
      "text/plain": [
       "array(['Consumer', 'Corporate', 'Home Office'], dtype=object)"
      ]
     },
     "execution_count": 83,
     "metadata": {},
     "output_type": "execute_result"
    }
   ],
   "source": [
    "x1 = retaildata['Segment'].unique()\n",
    "x1"
   ]
  },
  {
   "cell_type": "code",
   "execution_count": 84,
   "id": "426f5615",
   "metadata": {},
   "outputs": [
    {
     "data": {
      "text/html": [
       "<div>\n",
       "<style scoped>\n",
       "    .dataframe tbody tr th:only-of-type {\n",
       "        vertical-align: middle;\n",
       "    }\n",
       "\n",
       "    .dataframe tbody tr th {\n",
       "        vertical-align: top;\n",
       "    }\n",
       "\n",
       "    .dataframe thead th {\n",
       "        text-align: right;\n",
       "    }\n",
       "</style>\n",
       "<table border=\"1\" class=\"dataframe\">\n",
       "  <thead>\n",
       "    <tr style=\"text-align: right;\">\n",
       "      <th></th>\n",
       "      <th>Sales</th>\n",
       "    </tr>\n",
       "    <tr>\n",
       "      <th>Segment</th>\n",
       "      <th></th>\n",
       "    </tr>\n",
       "  </thead>\n",
       "  <tbody>\n",
       "    <tr>\n",
       "      <th>Consumer</th>\n",
       "      <td>223.733644</td>\n",
       "    </tr>\n",
       "    <tr>\n",
       "      <th>Corporate</th>\n",
       "      <td>233.823300</td>\n",
       "    </tr>\n",
       "    <tr>\n",
       "      <th>Home Office</th>\n",
       "      <td>240.972041</td>\n",
       "    </tr>\n",
       "  </tbody>\n",
       "</table>\n",
       "</div>"
      ],
      "text/plain": [
       "                  Sales\n",
       "Segment                \n",
       "Consumer     223.733644\n",
       "Corporate    233.823300\n",
       "Home Office  240.972041"
      ]
     },
     "execution_count": 84,
     "metadata": {},
     "output_type": "execute_result"
    }
   ],
   "source": [
    "y1 = retaildata.groupby(['Segment']).agg({'Sales':np.average})\n",
    "y1"
   ]
  },
  {
   "cell_type": "code",
   "execution_count": 85,
   "id": "56013025",
   "metadata": {},
   "outputs": [],
   "source": [
    "#SegmentWise Average Profit"
   ]
  },
  {
   "cell_type": "code",
   "execution_count": 86,
   "id": "ea64ef46",
   "metadata": {},
   "outputs": [
    {
     "data": {
      "text/html": [
       "<div>\n",
       "<style scoped>\n",
       "    .dataframe tbody tr th:only-of-type {\n",
       "        vertical-align: middle;\n",
       "    }\n",
       "\n",
       "    .dataframe tbody tr th {\n",
       "        vertical-align: top;\n",
       "    }\n",
       "\n",
       "    .dataframe thead th {\n",
       "        text-align: right;\n",
       "    }\n",
       "</style>\n",
       "<table border=\"1\" class=\"dataframe\">\n",
       "  <thead>\n",
       "    <tr style=\"text-align: right;\">\n",
       "      <th></th>\n",
       "      <th>Profit</th>\n",
       "    </tr>\n",
       "    <tr>\n",
       "      <th>Segment</th>\n",
       "      <th></th>\n",
       "    </tr>\n",
       "  </thead>\n",
       "  <tbody>\n",
       "    <tr>\n",
       "      <th>Consumer</th>\n",
       "      <td>25.836873</td>\n",
       "    </tr>\n",
       "    <tr>\n",
       "      <th>Corporate</th>\n",
       "      <td>30.456667</td>\n",
       "    </tr>\n",
       "    <tr>\n",
       "      <th>Home Office</th>\n",
       "      <td>33.818664</td>\n",
       "    </tr>\n",
       "  </tbody>\n",
       "</table>\n",
       "</div>"
      ],
      "text/plain": [
       "                Profit\n",
       "Segment               \n",
       "Consumer     25.836873\n",
       "Corporate    30.456667\n",
       "Home Office  33.818664"
      ]
     },
     "execution_count": 86,
     "metadata": {},
     "output_type": "execute_result"
    }
   ],
   "source": [
    "y1pro = retaildata.groupby(['Segment']).agg({'Profit':np.mean})\n",
    "y1pro"
   ]
  },
  {
   "cell_type": "code",
   "execution_count": null,
   "id": "1fe63a5d",
   "metadata": {},
   "outputs": [],
   "source": [
    "#Sub-Categoriwise Order Counts"
   ]
  },
  {
   "cell_type": "code",
   "execution_count": 89,
   "id": "03a21195",
   "metadata": {},
   "outputs": [
    {
     "data": {
      "text/plain": [
       "<function matplotlib.pyplot.show(close=None, block=None)>"
      ]
     },
     "execution_count": 89,
     "metadata": {},
     "output_type": "execute_result"
    },
    {
     "data": {
      "image/png": "[encoded data removed]",
      "text/plain": [
       "<Figure size 1440x720 with 1 Axes>"
      ]
     },
     "metadata": {
      "needs_background": "light"
     },
     "output_type": "display_data"
    }
   ],
   "source": [
    "plt.figure(figsize=(20,10))\n",
    "sns.countplot(x=data['Sub-Category'],orient='h', order=(retaildata['Sub-Category'].value_counts()).index)\n",
    "plt.title('Sub-Categoriwise Sold Counts')\n",
    "plt.show"
   ]
  },
  {
   "cell_type": "code",
   "execution_count": 91,
   "id": "943a0eb8",
   "metadata": {},
   "outputs": [],
   "source": [
    "#conclusion:By looking at above graph we can say 80% of orders are coming from 7 to 8 Cities only"
   ]
  },
  {
   "cell_type": "code",
   "execution_count": 92,
   "id": "d37a5b7a",
   "metadata": {},
   "outputs": [],
   "source": [
    "##State-wise Performance of Orders Counts"
   ]
  },
  {
   "cell_type": "code",
   "execution_count": 95,
   "id": "ea74be0b",
   "metadata": {},
   "outputs": [
    {
     "data": {
      "image/png": "[encoded data removed]",
      "text/plain": [
       "<Figure size 1440x720 with 1 Axes>"
      ]
     },
     "metadata": {
      "needs_background": "light"
     },
     "output_type": "display_data"
    }
   ],
   "source": [
    "plt.figure(figsize=(20,10))\n",
    "sns.countplot(x=retaildata['State'],order=(retaildata['State'].value_counts().head(50)).index)\n",
    "plt.xticks(rotation=90)\n",
    "plt.show()\n",
    "                            "
   ]
  },
  {
   "cell_type": "code",
   "execution_count": 96,
   "id": "2358c4a0",
   "metadata": {},
   "outputs": [],
   "source": [
    "#conclusion: By looking at above graph we can say 80% of orders are coming from 7 states only\n"
   ]
  },
  {
   "cell_type": "code",
   "execution_count": 97,
   "id": "a95e83b5",
   "metadata": {},
   "outputs": [],
   "source": [
    "#Regionwise Total sales and profit performance\n"
   ]
  },
  {
   "cell_type": "code",
   "execution_count": 98,
   "id": "8a085194",
   "metadata": {},
   "outputs": [
    {
     "data": {
      "text/plain": [
       "Region\n",
       "Central    501239.8908\n",
       "East       678781.2400\n",
       "South      391721.9050\n",
       "West       725457.8245\n",
       "Name: Sales, dtype: float64"
      ]
     },
     "execution_count": 98,
     "metadata": {},
     "output_type": "execute_result"
    }
   ],
   "source": [
    "y2 = retaildata.groupby(['Region'])['Sales'].sum()\n",
    "y2"
   ]
  },
  {
   "cell_type": "code",
   "execution_count": 99,
   "id": "d8984b91",
   "metadata": {},
   "outputs": [
    {
     "data": {
      "text/plain": [
       "Region\n",
       "Central     39706.3625\n",
       "East        91522.7800\n",
       "South       46749.4303\n",
       "West       108418.4489\n",
       "Name: Profit, dtype: float64"
      ]
     },
     "execution_count": 99,
     "metadata": {},
     "output_type": "execute_result"
    }
   ],
   "source": [
    "y2prof = retaildata.groupby(['Region'])['Profit'].sum()\n",
    "y2prof"
   ]
  },
  {
   "cell_type": "code",
   "execution_count": 100,
   "id": "69f49699",
   "metadata": {},
   "outputs": [],
   "source": [
    "#Regionwise Average Sales\n"
   ]
  },
  {
   "cell_type": "code",
   "execution_count": 101,
   "id": "62d879c0",
   "metadata": {},
   "outputs": [
    {
     "data": {
      "text/plain": [
       "Region\n",
       "Central    215.772661\n",
       "East       238.336110\n",
       "South      241.803645\n",
       "West       226.493233\n",
       "Name: Sales, dtype: float64"
      ]
     },
     "execution_count": 101,
     "metadata": {},
     "output_type": "execute_result"
    }
   ],
   "source": [
    "y2 = retaildata.groupby(['Region']).agg({'Sales':np.average})\n",
    "y2 = y2.iloc[:,-1]\n",
    "y2"
   ]
  },
  {
   "cell_type": "code",
   "execution_count": 105,
   "id": "f96b8c39",
   "metadata": {},
   "outputs": [],
   "source": [
    "#sub-categoriwise average sales"
   ]
  },
  {
   "cell_type": "code",
   "execution_count": 106,
   "id": "588ef75c",
   "metadata": {},
   "outputs": [
    {
     "data": {
      "text/plain": [
       "Sub-Category\n",
       "Accessories     215.974604\n",
       "Appliances      230.755710\n",
       "Art              34.068834\n",
       "Binders         133.560560\n",
       "Bookcases       503.859633\n",
       "Chairs          532.332420\n",
       "Copiers        2198.941618\n",
       "Envelopes        64.867724\n",
       "Fasteners        13.936774\n",
       "Furnishings      95.825668\n",
       "Labels           34.303055\n",
       "Machines       1645.553313\n",
       "Paper            57.284092\n",
       "Phones          371.211534\n",
       "Storage         264.590553\n",
       "Supplies        245.650200\n",
       "Tables          648.794771\n",
       "Name: Sales, dtype: float64"
      ]
     },
     "execution_count": 106,
     "metadata": {},
     "output_type": "execute_result"
    }
   ],
   "source": [
    "y4 = retaildata.groupby(['Sub-Category']).agg({'Sales':np.average})\n",
    "y4 = y4.iloc[:,-1]\n",
    "y4"
   ]
  },
  {
   "cell_type": "code",
   "execution_count": null,
   "id": "370bfebe",
   "metadata": {},
   "outputs": [],
   "source": [
    "Thank you \n",
    "The Spark Foundation \n",
    "Completed By Vijay Nandeshwar"
   ]
  },
  {
   "cell_type": "code",
   "execution_count": null,
   "id": "fa102f83",
   "metadata": {},
   "outputs": [],
   "source": []
  }
 ],
 "metadata": {
  "kernelspec": {
   "display_name": "Python 3 (ipykernel)",
   "language": "python",
   "name": "python3"
  },
  "language_info": {
   "codemirror_mode": {
    "name": "ipython",
    "version": 3
   },
   "file_extension": ".py",
   "mimetype": "text/x-python",
   "name": "python",
   "nbconvert_exporter": "python",
   "pygments_lexer": "ipython3",
   "version": "3.9.12"
  }
 },
 "nbformat": 4,
 "nbformat_minor": 5
}
